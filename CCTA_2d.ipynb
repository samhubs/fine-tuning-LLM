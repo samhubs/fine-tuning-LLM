{
 "cells": [
  {
   "cell_type": "code",
   "execution_count": 2,
   "metadata": {},
   "outputs": [
    {
     "data": {
      "image/png": "[encoded data removed]",
      "text/plain": [
       "<Figure size 640x480 with 2 Axes>"
      ]
     },
     "metadata": {},
     "output_type": "display_data"
    }
   ],
   "source": [
    "import numpy as np\n",
    "import cv2\n",
    "import torch\n",
    "from torch.utils.data import Dataset, DataLoader\n",
    "import matplotlib.pyplot as plt\n",
    "\n",
    "def create_toy_ct_image(image_size=256, vessel_center=(128, 128),\n",
    "                        vessel_radius=50, lumen_radius=30, plaque_angle=(30, 90)):\n",
    "    # Create a blank image\n",
    "    image = np.zeros((image_size, image_size), dtype=np.uint8)\n",
    "    # Draw the vessel wall (simulate intensity ~150)\n",
    "    cv2.circle(image, vessel_center, vessel_radius, 150, -1)\n",
    "    # Draw the lumen (simulate intensity ~200)\n",
    "    cv2.circle(image, vessel_center, lumen_radius, 200, -1)\n",
    "    # Add a plaque region on one side (simulate intensity ~80)\n",
    "    mask = np.zeros_like(image, dtype=np.uint8)\n",
    "    cv2.ellipse(mask, vessel_center, (vessel_radius, vessel_radius),\n",
    "                0, plaque_angle[0], plaque_angle[1], 255, -1)\n",
    "    image[(mask == 255) & (image == 150)] = 80\n",
    "    return image\n",
    "\n",
    "class ToyCTDataset(Dataset):\n",
    "    def __init__(self, num_images=100):\n",
    "        self.num_images = num_images\n",
    "        self.images = [create_toy_ct_image() for _ in range(num_images)]\n",
    "        # For a segmentation task, we need corresponding masks.\n",
    "        # Here, we create a simple binary mask for the vessel.\n",
    "        self.masks = [self.create_vessel_mask(img) for img in self.images]\n",
    "\n",
    "    def create_vessel_mask(self, image):\n",
    "        # Simple threshold to segment the vessel wall (value >= 70)\n",
    "        mask = (image >= 70).astype(np.float32)\n",
    "        return mask\n",
    "\n",
    "    def __len__(self):\n",
    "        return self.num_images\n",
    "\n",
    "    def __getitem__(self, idx):\n",
    "        # Normalize image to [0, 1] and add a channel dimension\n",
    "        image = self.images[idx].astype(np.float32) / 255.0\n",
    "        image = np.expand_dims(image, axis=0)\n",
    "        mask = self.masks[idx]\n",
    "        mask = np.expand_dims(mask, axis=0)\n",
    "        return torch.tensor(image), torch.tensor(mask)\n",
    "\n",
    "# Create the dataset and dataloader\n",
    "dataset = ToyCTDataset(num_images=100)\n",
    "dataloader = DataLoader(dataset, batch_size=4, shuffle=True)\n",
    "\n",
    "# Visualize one example\n",
    "img, mask = dataset[0]\n",
    "plt.subplot(1, 2, 1)\n",
    "plt.imshow(img.squeeze(), cmap='gray')\n",
    "plt.title(\"Toy CCTA Image\")\n",
    "plt.subplot(1, 2, 2)\n",
    "plt.imshow(mask.squeeze(), cmap='gray')\n",
    "plt.title(\"Vessel Mask\")\n",
    "plt.show()"
   ]
  },
  {
   "cell_type": "code",
   "execution_count": 3,
   "metadata": {},
   "outputs": [
    {
     "name": "stdout",
     "output_type": "stream",
     "text": [
      "SimpleSegNet(\n",
      "  (conv1): Conv2d(1, 16, kernel_size=(3, 3), stride=(1, 1), padding=(1, 1))\n",
      "  (conv2): Conv2d(16, 32, kernel_size=(3, 3), stride=(1, 1), padding=(1, 1))\n",
      "  (pool): MaxPool2d(kernel_size=2, stride=2, padding=0, dilation=1, ceil_mode=False)\n",
      "  (upconv1): ConvTranspose2d(32, 16, kernel_size=(2, 2), stride=(2, 2))\n",
      "  (conv3): Conv2d(16, 16, kernel_size=(3, 3), stride=(1, 1), padding=(1, 1))\n",
      "  (conv4): Conv2d(16, 1, kernel_size=(1, 1), stride=(1, 1))\n",
      ")\n"
     ]
    }
   ],
   "source": [
    "import torch.nn as nn\n",
    "import torch.nn.functional as F\n",
    "\n",
    "class SimpleSegNet(nn.Module):\n",
    "    def __init__(self):\n",
    "        super(SimpleSegNet, self).__init__()\n",
    "        # Encoder\n",
    "        self.conv1 = nn.Conv2d(1, 16, kernel_size=3, padding=1)\n",
    "        self.conv2 = nn.Conv2d(16, 32, kernel_size=3, padding=1)\n",
    "        self.pool = nn.MaxPool2d(2, 2)\n",
    "        # Decoder\n",
    "        self.upconv1 = nn.ConvTranspose2d(32, 16, kernel_size=2, stride=2)\n",
    "        self.conv3 = nn.Conv2d(16, 16, kernel_size=3, padding=1)\n",
    "        self.conv4 = nn.Conv2d(16, 1, kernel_size=1)  # Output 1 channel (binary mask)\n",
    "\n",
    "    def forward(self, x):\n",
    "        # Encoder\n",
    "        x = F.relu(self.conv1(x))\n",
    "        x = F.relu(self.conv2(x))\n",
    "        x_enc = self.pool(x)  # Downsample\n",
    "        \n",
    "        # Decoder\n",
    "        x = F.relu(self.upconv1(x_enc))\n",
    "        x = F.relu(self.conv3(x))\n",
    "        x = torch.sigmoid(self.conv4(x))\n",
    "        return x\n",
    "\n",
    "model = SimpleSegNet()\n",
    "print(model)\n"
   ]
  },
  {
   "cell_type": "code",
   "execution_count": 4,
   "metadata": {},
   "outputs": [
    {
     "name": "stdout",
     "output_type": "stream",
     "text": [
      "Epoch 1/5, Loss: 0.6992\n",
      "Epoch 2/5, Loss: 0.3436\n",
      "Epoch 3/5, Loss: 0.0664\n",
      "Epoch 4/5, Loss: 0.0110\n",
      "Epoch 5/5, Loss: 0.0033\n",
      "Training complete.\n"
     ]
    }
   ],
   "source": [
    "import torch.optim as optim\n",
    "\n",
    "# Define loss and optimizer\n",
    "criterion = nn.BCELoss()\n",
    "optimizer = optim.Adam(model.parameters(), lr=0.001)\n",
    "\n",
    "num_epochs = 5  # For toy experiment; normally many more epochs are required\n",
    "\n",
    "for epoch in range(num_epochs):\n",
    "    running_loss = 0.0\n",
    "    for images, masks in dataloader:\n",
    "        optimizer.zero_grad()\n",
    "        outputs = model(images)\n",
    "        loss = criterion(outputs, masks)\n",
    "        loss.backward()\n",
    "        optimizer.step()\n",
    "        running_loss += loss.item()\n",
    "    print(f\"Epoch {epoch+1}/{num_epochs}, Loss: {running_loss/len(dataloader):.4f}\")\n",
    "\n",
    "print(\"Training complete.\")\n"
   ]
  },
  {
   "cell_type": "code",
   "execution_count": 7,
   "metadata": {},
   "outputs": [
    {
     "data": {
      "image/png": "[encoded data removed]",
      "text/plain": [
       "<Figure size 800x400 with 2 Axes>"
      ]
     },
     "metadata": {},
     "output_type": "display_data"
    }
   ],
   "source": [
    "from skimage.morphology import skeletonize\n",
    "\n",
    "def extract_centerline(mask_tensor):\n",
    "    # Convert tensor to numpy array\n",
    "    mask_np = mask_tensor.squeeze().detach().cpu().numpy()\n",
    "    # Binarize the mask (if necessary)\n",
    "    binary_mask = mask_np > 0.5\n",
    "    # Skeletonize the mask\n",
    "    centerline = skeletonize(binary_mask)\n",
    "    return centerline\n",
    "\n",
    "# Example: run the model on one image and extract the centerline\n",
    "model.eval()\n",
    "with torch.no_grad():\n",
    "    sample_img, _ = dataset[0]\n",
    "    pred_mask = model(sample_img.unsqueeze(0))\n",
    "    centerline = extract_centerline(pred_mask[0])\n",
    "\n",
    "plt.figure(figsize=(8,4))\n",
    "plt.subplot(1, 2, 1)\n",
    "plt.imshow(sample_img.squeeze(), cmap='gray')\n",
    "plt.title(\"Input Image\")\n",
    "plt.subplot(1, 2, 2)\n",
    "plt.imshow(centerline, cmap='gray')\n",
    "plt.title(\"Extracted Centerline\")\n",
    "plt.show()\n"
   ]
  },
  {
   "cell_type": "code",
   "execution_count": 8,
   "metadata": {},
   "outputs": [
    {
     "name": "stdout",
     "output_type": "stream",
     "text": [
      "Estimated Lumen Diameter: 59.93170075759484\n",
      "Estimated % Stenosis: 0.11383207067526824\n"
     ]
    }
   ],
   "source": [
    "def compute_diameter(binary_mask):\n",
    "    # Estimate diameter assuming circular shape: diameter = 2*sqrt(area/pi)\n",
    "    area = np.sum(binary_mask)\n",
    "    diameter = 2 * np.sqrt(area / np.pi)\n",
    "    return diameter\n",
    "\n",
    "# Simulate lumen segmentation by thresholding (for the toy image, we know lumen intensity is high)\n",
    "def segment_lumen(image_tensor):\n",
    "    image_np = image_tensor.squeeze().detach().cpu().numpy()\n",
    "    lumen_mask = image_np > 0.75  # threshold on normalized intensity (200/255 ~ 0.78)\n",
    "    return lumen_mask.astype(np.uint8)\n",
    "\n",
    "sample_image, _ = dataset[0]\n",
    "lumen_mask = segment_lumen(sample_image)\n",
    "lumen_diameter = compute_diameter(lumen_mask)\n",
    "\n",
    "# For demonstration, assume a reference (normal) diameter (in pixels)\n",
    "reference_diameter = 60  \n",
    "stenosis_percent = (1 - (lumen_diameter / reference_diameter)) * 100\n",
    "print(\"Estimated Lumen Diameter:\", lumen_diameter)\n",
    "print(\"Estimated % Stenosis:\", stenosis_percent)\n"
   ]
  },
  {
   "cell_type": "code",
   "execution_count": null,
   "metadata": {},
   "outputs": [],
   "source": []
  }
 ],
 "metadata": {
  "kernelspec": {
   "display_name": "fine-tuning-llm-zCTe-Zcu-py3.13",
   "language": "python",
   "name": "python3"
  },
  "language_info": {
   "codemirror_mode": {
    "name": "ipython",
    "version": 3
   },
   "file_extension": ".py",
   "mimetype": "text/x-python",
   "name": "python",
   "nbconvert_exporter": "python",
   "pygments_lexer": "ipython3",
   "version": "3.13.0"
  }
 },
 "nbformat": 4,
 "nbformat_minor": 2
}
